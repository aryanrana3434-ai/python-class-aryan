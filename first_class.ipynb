{
  "nbformat": 4,
  "nbformat_minor": 0,
  "metadata": {
    "colab": {
      "provenance": [],
      "authorship_tag": "ABX9TyP8c147FIwCGVWDhBiN3E+7",
      "include_colab_link": true
    },
    "kernelspec": {
      "name": "python3",
      "display_name": "Python 3"
    },
    "language_info": {
      "name": "python"
    }
  },
  "cells": [
    {
      "cell_type": "markdown",
      "metadata": {
        "id": "view-in-github",
        "colab_type": "text"
      },
      "source": [
        "<a href=\"https://colab.research.google.com/github/aryanrana3434-ai/python-class-aryan/blob/main/first_class.ipynb\" target=\"_parent\"><img src=\"https://colab.research.google.com/assets/colab-badge.svg\" alt=\"Open In Colab\"/></a>"
      ]
    },
    {
      "cell_type": "code",
      "execution_count": 3,
      "metadata": {
        "colab": {
          "base_uri": "https://localhost:8080/"
        },
        "id": "dZMf60FRHvlV",
        "outputId": "42ee29f3-f244-476e-968d-bdeab1696aa5"
      },
      "outputs": [
        {
          "output_type": "stream",
          "name": "stdout",
          "text": [
            "10\n",
            "first name\n",
            "14.700000000000001\n"
          ]
        }
      ],
      "source": [
        "# hy this\n",
        "\"\"\"this is my pc\n",
        "hello this\n",
        "helpp\"\"\"\n",
        "a=10\n",
        "print(a)\n",
        "\n",
        "a=\"first name\"\n",
        "print(a)\n",
        "a=12.3\n",
        "b=2.4\n",
        "c=a+b\n",
        "print(c)\n"
      ]
    },
    {
      "cell_type": "code",
      "source": [
        "first_number=10\n",
        "second_number=20\n",
        "addition=first_number+second_number\n",
        "print(f\"sum of {first_number} and {second_number} is: {addition} \")\n"
      ],
      "metadata": {
        "colab": {
          "base_uri": "https://localhost:8080/"
        },
        "id": "BMA9MC_WLnOU",
        "outputId": "6c161f26-14f3-4d70-fb06-59290cc218f9"
      },
      "execution_count": 9,
      "outputs": [
        {
          "output_type": "stream",
          "name": "stdout",
          "text": [
            "sum of 10 and 20 is: 30 \n"
          ]
        }
      ]
    },
    {
      "cell_type": "code",
      "source": [],
      "metadata": {
        "id": "qZpUKCS_WxUM"
      },
      "execution_count": null,
      "outputs": []
    },
    {
      "cell_type": "code",
      "source": [
        "\n",
        "name = input(\"Enter your name: \")\n",
        "age = input(\"Enter your age: \")\n",
        "gender = input(\"Enter your gender: \")\n",
        "email = input(\"Enter your email: \")\n",
        "phone = input(\"Enter your phone number: \")\n",
        "father_name =input(\"Enter father name:\")\n",
        "print(\"************* Bio Data *****************\")\n",
        "print(f\"Name: {name}\")\n",
        "print(f\"Age: {age}\")\n",
        "print(f\"Gender: {gender}\")\n",
        "print(f\"Email: {email}\")\n",
        "print(f\"Phone: {phone}\")\n",
        "print(f\"fathername: {father_name}\")"
      ],
      "metadata": {
        "colab": {
          "base_uri": "https://localhost:8080/"
        },
        "id": "wY8BLuy1NF6X",
        "outputId": "804857a0-f47f-417b-93a7-cb17b02ab3ca"
      },
      "execution_count": 44,
      "outputs": [
        {
          "output_type": "stream",
          "name": "stdout",
          "text": [
            "Enter your name: aryan\n",
            "Enter your age: 22\n",
            "Enter your gender: male\n",
            "Enter your email: aryanihhh\n",
            "Enter your phone number: 7897482\n",
            "Enter father name:ajay\n",
            "************* Bio Data *****************\n",
            "Name: aryan\n",
            "Age: 22\n",
            "Gender: male\n",
            "Email: aryanihhh\n",
            "Phone: 7897482\n",
            "fathername: ajay\n"
          ]
        }
      ]
    },
    {
      "cell_type": "code",
      "source": [],
      "metadata": {
        "id": "9OPITeAmcNrQ"
      },
      "execution_count": null,
      "outputs": []
    }
  ]
}