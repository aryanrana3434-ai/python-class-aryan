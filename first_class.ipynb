{
  "nbformat": 4,
  "nbformat_minor": 0,
  "metadata": {
    "colab": {
      "provenance": [],
      "authorship_tag": "ABX9TyPxtGO+C6WKWZnf1eNV3zaj",
      "include_colab_link": true
    },
    "kernelspec": {
      "name": "python3",
      "display_name": "Python 3"
    },
    "language_info": {
      "name": "python"
    }
  },
  "cells": [
    {
      "cell_type": "markdown",
      "metadata": {
        "id": "view-in-github",
        "colab_type": "text"
      },
      "source": [
        "<a href=\"https://colab.research.google.com/github/aryanrana3434-ai/python-class-aryan/blob/main/first_class.ipynb\" target=\"_parent\"><img src=\"https://colab.research.google.com/assets/colab-badge.svg\" alt=\"Open In Colab\"/></a>"
      ]
    },
    {
      "cell_type": "code",
      "execution_count": 3,
      "metadata": {
        "colab": {
          "base_uri": "https://localhost:8080/"
        },
        "id": "dZMf60FRHvlV",
        "outputId": "42ee29f3-f244-476e-968d-bdeab1696aa5"
      },
      "outputs": [
        {
          "output_type": "stream",
          "name": "stdout",
          "text": [
            "10\n",
            "first name\n",
            "14.700000000000001\n"
          ]
        }
      ],
      "source": [
        "# hy this\n",
        "\"\"\"this is my pc\n",
        "hello this\n",
        "helpp\"\"\"\n",
        "a=10\n",
        "print(a)\n",
        "\n",
        "a=\"first name\"\n",
        "print(a)\n",
        "a=12.3\n",
        "b=2.4\n",
        "c=a+b\n",
        "print(c)\n"
      ]
    }
  ]
}